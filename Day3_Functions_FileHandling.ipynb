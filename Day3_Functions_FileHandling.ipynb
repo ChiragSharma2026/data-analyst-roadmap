{
 "cells": [
  {
   "cell_type": "code",
   "execution_count": 1,
   "id": "bb22d8cd",
   "metadata": {},
   "outputs": [],
   "source": [
    "# def function_name(parameters):\n",
    "    # code block\n",
    "#    return output"
   ]
  },
  {
   "cell_type": "code",
   "execution_count": null,
   "id": "d6e8f4ef",
   "metadata": {},
   "outputs": [
    {
     "name": "stdout",
     "output_type": "stream",
     "text": [
      "Hello, Chirag! Welcome\n"
     ]
    }
   ],
   "source": [
    "#🧮 Task 1: Your First Function\n",
    "def greet_user(name):\n",
    "    return f\"Hello, {name}! Welcome\"\n",
    "print(greet_user(\"Chirag\"))"
   ]
  },
  {
   "cell_type": "code",
   "execution_count": null,
   "id": "e4415a12",
   "metadata": {},
   "outputs": [
    {
     "name": "stdout",
     "output_type": "stream",
     "text": [
      "(458, 76.33333333333333, 95, 54)\n"
     ]
    }
   ],
   "source": [
    "#⚙️Task 2: Function Returning Multiple Values\n",
    "def calculate_stats(numbers):\n",
    "    total=sum(numbers)\n",
    "    average= sum(numbers)/len(numbers)\n",
    "    maximum= max(numbers)\n",
    "    minimum= min(numbers)\n",
    "    return total,average,maximum,minimum\n",
    "numbers= [75,78,89,95,54,67]\n",
    "result=calculate_stats(numbers)\n",
    "print(result)\n"
   ]
  },
  {
   "cell_type": "code",
   "execution_count": null,
   "id": "d5fa79a0",
   "metadata": {},
   "outputs": [
    {
     "name": "stdout",
     "output_type": "stream",
     "text": [
      "50\n",
      "72\n"
     ]
    }
   ],
   "source": [
    "#🧰Task 3: Default Parameters + Keyword Arguments\n",
    "def area_of_rectangle(length,breadth):\n",
    "    area=length*breadth\n",
    "    return area\n",
    "print(area_of_rectangle(10,5))\n",
    "print(area_of_rectangle(12,6))"
   ]
  },
  {
   "cell_type": "code",
   "execution_count": 54,
   "id": "fa0efe9d",
   "metadata": {},
   "outputs": [
    {
     "name": "stdout",
     "output_type": "stream",
     "text": [
      "File written successfully!\n"
     ]
    }
   ],
   "source": [
    "#File handling\n",
    "# 🗂️ Task 4: Write Data to a File\n",
    "data=[\"Name,score\", \"Chirag,89\", \"Aditi,75\", \"Rohan,92\"]\n",
    "with open(\"Student_score.txt\", \"w\") as file:\n",
    "    for line in data:\n",
    "        file.write(line+\"\\n\")\n",
    "print(\"File written successfully!\")\n",
    "# ✅ This creates a .txt file in the same directory as your notebook.\n"
   ]
  },
  {
   "cell_type": "code",
   "execution_count": 55,
   "id": "41c7d53d",
   "metadata": {},
   "outputs": [
    {
     "name": "stdout",
     "output_type": "stream",
     "text": [
      "File contents:\n",
      "Name,score\n",
      "Chirag,89\n",
      "Aditi,75\n",
      "Rohan,92\n"
     ]
    }
   ],
   "source": [
    "# 📖 Task 5: Read Data from a File\n",
    "with open(\"Student_score.txt\", \"r\") as file:\n",
    "    content=file.readlines()\n",
    "print(\"File contents:\")\n",
    "for line in content:\n",
    "    print(line.strip())\n",
    "#✅ Check that the file’s content matches what you wrote."
   ]
  },
  {
   "cell_type": "code",
   "execution_count": 56,
   "id": "e74699d8",
   "metadata": {},
   "outputs": [
    {
     "name": "stdout",
     "output_type": "stream",
     "text": [
      "[('Chirag', 89), ('Aditi', 75), ('Rohan', 92)]\n"
     ]
    }
   ],
   "source": [
    "# 🧮 Task 6: Simple CSV Data Parsing\n",
    "students=[]\n",
    "\n",
    "with open(\"Student_score.txt\", \"r\") as file:\n",
    "    next(file)\n",
    "    for line in file:\n",
    "        name,score=line.strip().split(\",\")\n",
    "        students.append((name, int(score)))\n",
    "print(students)\n",
    "#✅ Output should be a list of tuples with name & score.\n",
    "# This teaches you basic CSV parsing before Pandas."
   ]
  },
  {
   "cell_type": "code",
   "execution_count": 57,
   "id": "73bfdb70",
   "metadata": {},
   "outputs": [
    {
     "name": "stdout",
     "output_type": "stream",
     "text": [
      "('Rohan', 92)\n"
     ]
    }
   ],
   "source": [
    "students=[]\n",
    "with open(\"Student_score.txt\", \"r\") as file:\n",
    "    next(file)\n",
    "    for line in file:\n",
    "        name,score=line.strip().split(\",\")\n",
    "        students.append((name, int(score)))\n",
    "print(max(students))"
   ]
  },
  {
   "cell_type": "code",
   "execution_count": null,
   "id": "9718f27b",
   "metadata": {},
   "outputs": [],
   "source": []
  }
 ],
 "metadata": {
  "kernelspec": {
   "display_name": "Python 3",
   "language": "python",
   "name": "python3"
  },
  "language_info": {
   "codemirror_mode": {
    "name": "ipython",
    "version": 3
   },
   "file_extension": ".py",
   "mimetype": "text/x-python",
   "name": "python",
   "nbconvert_exporter": "python",
   "pygments_lexer": "ipython3",
   "version": "3.11.9"
  }
 },
 "nbformat": 4,
 "nbformat_minor": 5
}
