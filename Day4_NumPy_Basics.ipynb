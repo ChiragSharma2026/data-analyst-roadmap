{
 "cells": [
  {
   "cell_type": "code",
   "execution_count": 2,
   "id": "8b6fae2b",
   "metadata": {},
   "outputs": [
    {
     "name": "stdout",
     "output_type": "stream",
     "text": [
      "NumPy Version: 2.3.3\n"
     ]
    }
   ],
   "source": [
    "import numpy as np\n",
    "print(\"NumPy Version:\", np.__version__)"
   ]
  },
  {
   "cell_type": "code",
   "execution_count": 5,
   "id": "a02e5675",
   "metadata": {},
   "outputs": [
    {
     "name": "stdout",
     "output_type": "stream",
     "text": [
      "Type: <class 'numpy.ndarray'>\n"
     ]
    }
   ],
   "source": [
    "arr=np.array([1,2,3,4,5,6,7])\n",
    "print(\"Type:\",type(arr))"
   ]
  },
  {
   "cell_type": "code",
   "execution_count": 16,
   "id": "4ef19fd2",
   "metadata": {},
   "outputs": [
    {
     "name": "stdout",
     "output_type": "stream",
     "text": [
      "[[1 2 3]\n",
      " [9 8 7]\n",
      " [4 5 6]]\n",
      "Type: (3, 3)\n"
     ]
    }
   ],
   "source": [
    "matrix=np.array([[1,2,3],[9,8,7],[4,5,6]])\n",
    "print(matrix)\n",
    "print(\"Type:\", matrix.shape)"
   ]
  },
  {
   "cell_type": "code",
   "execution_count": 45,
   "id": "16cfa784",
   "metadata": {},
   "outputs": [
    {
     "name": "stdout",
     "output_type": "stream",
     "text": [
      "[[0. 0. 0.]\n",
      " [0. 0. 0.]] \n",
      "\n",
      "[[1. 1. 1.]\n",
      " [1. 1. 1.]\n",
      " [1. 1. 1.]]\n",
      "[1 3 5 7 9]\n",
      "[0.   0.25 0.5  0.75 1.  ]\n"
     ]
    }
   ],
   "source": [
    "zeros=np.zeros((2,3)) # to print an array that have internal numbers 0\n",
    "print(zeros,\"\\n\")\n",
    "\n",
    "ones=np.ones((3,3)) # to print an array that have internal numbers 1\n",
    "print(ones)\n",
    "\n",
    "range_arr=np.arange(1, 10, 2) #use to create array ( first elemnt, last element, gap)\n",
    "print(range_arr)\n",
    "\n",
    "linspace=np.linspace(0,1,5) # use to make a scale with start,end and 5 as to create 5 evenly spaces numbers b/w 0,1.|\n",
    "print(linspace)\n"
   ]
  },
  {
   "cell_type": "code",
   "execution_count": 58,
   "id": "97f93b26",
   "metadata": {},
   "outputs": [
    {
     "name": "stdout",
     "output_type": "stream",
     "text": [
      "10\n",
      "60\n",
      "30\n",
      "[30 40 50]\n"
     ]
    }
   ],
   "source": [
    "array=np.array([10,20,30,40,50,60])\n",
    "print(array[0])\n",
    "print(array[-1])\n",
    "print(array[2])\n",
    "print(array[2:5]) #use to print numbers including the start index i.e 2 and excluding the last index 5 in  i.e 30,40,50 not 60 as it is on index 5."
   ]
  },
  {
   "cell_type": "code",
   "execution_count": null,
   "id": "598f146f",
   "metadata": {},
   "outputs": [
    {
     "name": "stdout",
     "output_type": "stream",
     "text": [
      "[[1 2 3]\n",
      " [4 5 6]\n",
      " [7 8 9]]\n",
      "6\n",
      "[[2]\n",
      " [5]\n",
      " [8]]\n",
      "[[1 2]\n",
      " [4 5]]\n"
     ]
    }
   ],
   "source": [
    "mat=np.matrix([[1,2,3],[4,5,6],[7,8,9]]) #in row and coloumn indexing starts from 0 so 0th row is 1,2,3 and 0th coloumn is 1,4,7.\n",
    "print(mat)\n",
    "print(mat[1,2]) #in this it printed number on matrix index 1,2\n",
    "print(mat[:,1]) # to print all rows element of second coloumn(indexing of coloumn 2 is 1)\n",
    "print(mat[0:2,0:2]) #to print sub matrix "
   ]
  },
  {
   "cell_type": "code",
   "execution_count": null,
   "id": "c61ec02f",
   "metadata": {},
   "outputs": [
    {
     "name": "stdout",
     "output_type": "stream",
     "text": [
      "[ 2  4  9  8 10]\n",
      "[ 0  0 -3  0  0]\n",
      "[ 1  4 18 16 25]\n",
      "[1.  1.  0.5 1.  1. ]\n",
      "3.0\n",
      "3.0\n",
      "0.4898979485566356\n",
      "6\n",
      "1\n"
     ]
    }
   ],
   "source": [
    "#Mathematical Operations\n",
    "a=np.array([1,2,3,4,5])\n",
    "b=np.array([1,2,6,4,5])\n",
    "c=np.array([1,2,1,1,2])\n",
    "print(a+b)\n",
    "print(a-b)\n",
    "print(a*b)\n",
    "print(a/b)\n",
    "print(np.mean(a))\n",
    "print(np.median(a))\n",
    "print(np.std(c))\n",
    "print(np.max(b))\n",
    "print(np.min(b))\n"
   ]
  },
  {
   "cell_type": "code",
   "execution_count": 109,
   "id": "e98a9374",
   "metadata": {},
   "outputs": [
    {
     "name": "stdout",
     "output_type": "stream",
     "text": [
      "Average marks: 77.125\n",
      "Highest marks: 98\n",
      "Lowest marks: 55\n",
      "Student scoring above average 4\n"
     ]
    }
   ],
   "source": [
    "# Real-World Mini Challenge\n",
    "# Let’s simulate analyzing student marks — a realistic data problem.\n",
    "\n",
    "marks=np.array([55,67,78,98,87,65,72,95])\n",
    "print(\"Average marks:\",np.mean(marks))\n",
    "print(\"Highest marks:\", np.max(marks))\n",
    "print(\"Lowest marks:\", np.min(marks))\n",
    "print(\"Student scoring above average\", np.sum(marks > np.mean(marks)))\n",
    "\n"
   ]
  },
  {
   "cell_type": "code",
   "execution_count": 110,
   "id": "16d9c2b1",
   "metadata": {},
   "outputs": [
    {
     "data": {
      "image/png": "[encoded data removed]",
      "text/plain": [
       "<Figure size 640x480 with 1 Axes>"
      ]
     },
     "metadata": {},
     "output_type": "display_data"
    }
   ],
   "source": [
    "import matplotlib.pyplot as plt\n",
    "plt.hist(marks,bins=5,color='skyblue', edgecolor='black')\n",
    "plt.title(\"Student Distribution marks\")\n",
    "plt.xlabel(\"Marks\")\n",
    "plt.ylabel(\"Number of Students\")\n",
    "plt.show()\n"
   ]
  },
  {
   "cell_type": "code",
   "execution_count": null,
   "id": "bbfc229e",
   "metadata": {},
   "outputs": [],
   "source": []
  }
 ],
 "metadata": {
  "kernelspec": {
   "display_name": "Python 3",
   "language": "python",
   "name": "python3"
  },
  "language_info": {
   "codemirror_mode": {
    "name": "ipython",
    "version": 3
   },
   "file_extension": ".py",
   "mimetype": "text/x-python",
   "name": "python",
   "nbconvert_exporter": "python",
   "pygments_lexer": "ipython3",
   "version": "3.11.9"
  }
 },
 "nbformat": 4,
 "nbformat_minor": 5
}
